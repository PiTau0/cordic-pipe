{
 "cells": [
  {
   "cell_type": "markdown",
   "id": "a3be6767-6b31-45a3-b2bf-b40556696c6d",
   "metadata": {
    "tags": []
   },
   "source": [
    "<table align=\"center\"><tr><th> <div style=\"width:600px\"> <h4>AGH University of Krakow <br><br> Faculty of Computer Science, Electronics and Telecommunication <br><br> Institute of Electronics </h4></div></th><th> <div style=\"width:200px\"><img src=\"./img/logo_agh.png\" width=\"68\" height=\"136\"/></div> </th></tr></table>\n",
    "\n",
    "---\n",
    "\n",
    "<div style=\"text-align:center\"><h3>CUSTOM SYSTEM DESIGN IN FPGA LABORATORY</h3></div>\n",
    "<br>\n",
    "<div style=\"text-align:center\"><h1> PYNQ - introduction </h1></div>\n",
    "<br>\n",
    "\n",
    "> **NOTE:** This tutorial shows how to start your adventure with the PYNQ system using the [AMD-Xilinx KRIA KV260](https://www.amd.com/en/products/system-on-modules/kria/k26/kv260-vision-starter-kit.html) development platform.<br>After rebuilding the project in Vivado, all examples can be run on any FPGA SOC platform like [Zedboard](https://digilent.com/reference/programmable-logic/zedboard/start), [Zybo](https://digilent.com/reference/programmable-logic/zybo/start).\n",
    "\n",
    "\n",
    "## Contents\n",
    "\n",
    "* [Introduction](#Introduction)\n",
    "* [What is PYNQ?](#What-is-PYNQ?)\n",
    "* [Connection and communication with the development board](#Connection-and-communication-with-the-development-board)\n",
    "* [First steps with PYNQ](#First-steps-with-PYNQ)\n",
    "* [Creating own overlay](#Creating-own-overlay)\n",
    "* [Using a new overlay with PYNQ](#Using-a-new-overlay-with-PYNQ)\n",
    "\n",
    "<div style=\"text-align:right\"><h5> ver 0.2.1 </h5></div><br>"
   ]
  },
  {
   "cell_type": "markdown",
   "id": "736a676a-93a8-49b6-ae57-7ceaf017555d",
   "metadata": {
    "tags": []
   },
   "source": [
    "# Introduction\n",
    "\n",
    "## Objectives\n",
    "\n",
    "In this tutorial the PYNQ environment will be introduced. Basic functionalities will be presented based on a simple project. The next section will show you how to create your own Vivado project that works with PYNQ.\n",
    "\n",
    "## Prerequisites\n",
    "\n",
    "Digital design background and will be necessary for this tutorial. The prior knowledge of Verilog/System Verilog will be helpful but not absolutely necessary. Vivado 2022.1 design tool will be use to build the design files. Basic python language skills will be helpful.\n"
   ]
  },
  {
   "cell_type": "markdown",
   "id": "0ac0ee1e-5f33-4afd-9c33-755175381280",
   "metadata": {},
   "source": [
    "# What is PYNQ?\n",
    "\n",
    "PYNQ stands for Python Productivity for Zynq. It's an open-source project from AMD-Xilinx that aims to make it easier to use Xilinx Zynq System on Chips (SoCs) with Python.\n",
    "\n",
    "Zynq SoCs combine a processing system based on ARM Cortex-A cores with programmable logic fabric, allowing users to create customized hardware accelerators. PYNQ provides a framework for software developers and engineers to leverage the benefits of programmable logic in their applications, using familiar Python programming language and libraries.\n",
    "\n",
    "Key features of PYNQ include:\n",
    "\n",
    "- Python Integration: PYNQ allows users to control and interact with the programmable logic fabric using Python scripts, making it accessible to a wider audience of software developers and engineers.\n",
    "\n",
    "- Hardware Abstraction: PYNQ abstracts away many of the complexities of working with programmable logic, providing higher-level abstractions that simplify hardware design and integration.\n",
    "\n",
    "- Jupyter Notebooks: PYNQ uses Jupyter Notebooks as the primary development environment, enabling interactive and collaborative development experiences.\n",
    "\n",
    "- Community and Ecosystem: PYNQ has a growing community of developers contributing to the project, as well as a range of available libraries and resources to support development.\n",
    "\n",
    "<img src=\"./img/pynq_layers.png\" width=\"800\"/>\n",
    "\n",
    "### PYNQ install\n",
    "\n",
    "During the laboratory classes students get already prepared SD cards with Ubuntu and PYNQ setup.<br>\n",
    "To install on your own SD card, just follow the instructions on the official [GitHub repository](https://github.com/Xilinx/Kria-PYNQ)."
   ]
  },
  {
   "cell_type": "markdown",
   "id": "bb5a366c-b9b5-4f51-809d-f60985752690",
   "metadata": {
    "tags": []
   },
   "source": [
    "# Connection and communication with the development board\n",
    "\n",
    "\n",
    "> **STEP 1:** Connect cables to the KRIA\n",
    ">\n",
    ">> A. Insert the microSD card to the J11<br>\n",
    ">> B. Connect micro-USB cable to J4<br>\n",
    ">> C. Connect RJ45 cable<br>\n",
    ">> D. Connect power supply to J12<br>\n",
    ">\n",
    "> **WARNING:** After connecting to power supply the fan located at the KRIA board will start at full speed. It will slow down after correct boot of Ubuntu OS, in approx. 3 minuts.\n",
    "\n",
    "<img src=\"./img/kria_plugs.png\" width=\"300\"/>\n",
    "\n",
    "\n",
    "> **STEP 2:** Connect to the network\n",
    ">\n",
    "> PYNQ is working most efficient if it has access to the Internet. If available, you should connect your board to a network or router with Internet access. This will allow you to update your board and easily install new packages. There are two options:\n",
    ">\n",
    ">> LEFT option: Connect the KRIA with RJ45 directly to the PC (embedded network card, or dongle **USB<->Ethernet** included in the lab box)<br>\n",
    ">> RIGHT option: Connet the KRIA to the router<br>\n",
    "\n",
    "<img src=\"./img/kria_setup_network.png\" width=\"800\"/>\n",
    "\n",
    "> You will need to have an Ethernet port available on your computer, and you will need to have permissions to configure your network interface. With a direct connection, you will be able to use PYNQ, but unless you can bridge the Ethernet connection to the board to an Internet connection on your computer, your board will not have Internet access. You will be unable to update or load new packages without Internet access.<br>\n",
    ">\n",
    ">> In the example below **Ethernet** is PC connection to LAN, and **Ethernet 3** is connection with KRIA. Use **View Network Connections** to set **Internet Connetion Sharing** option.<br>In case of no Received Bytes on **Ethernet 3** network, the best solution is to *disable and enable* network sharing in the **Ethernet** Properties tab.\n",
    "\n",
    "<img src=\"./img/setup_ethernet.png\" width=\"800\"/>\n",
    "\n",
    "> **STEP 3:** Open a USB Serial Terminal\n",
    ">\n",
    ">  You can use the terminal to check the network connection of the board. [PuTTY](https://www.putty.org/) is one application that can be used. To open a terminal, you will need to know the COM port for the board. Use 115200 baud rate. To login use data:\n",
    ">\n",
    ">> username: ubuntu<br>\n",
    ">> password: kriasdup<br>\n",
    ">\n",
    "> You can check the HOSTNAME and IP address of the board using *ifconfig*. \n",
    "> In this example: \n",
    ">\n",
    ">> HOSTNAME: kriaSDUP-0<br>\n",
    ">> IPaddress: 192.168.137.227\n",
    "\n",
    "<img src=\"./img/kria_putty.png\" width=\"500\"/>\n",
    "\n",
    "> **STEP 4:** Connecting to Jupyter Notebook (LAB)\n",
    ">\n",
    "> Once your board is setup, to connect to Jupyter Notebooks open a web browser on your PC and navigate to:\n",
    ">\n",
    ">> [HOSTNAME:9090/lab](HOSTNAME:9090/lab) or <br>\n",
    ">> [IPaddress:9090/lab](IPaddress:9090/lab)<br>\n",
    ">\n",
    "> To login use data:\n",
    ">\n",
    ">> password: xilinx<br>\n",
    ">\n",
    "> You can use drag-and-drop to copy files to the board.<br>\n",
    "> To download file from the board use option File -> Download.\n",
    "\n",
    "<img src=\"./img/kria_jupyter.png\" width=\"600\"/>\n",
    "\n",
    "<div class=\"alert alert-success\"><strong>NOTE:</strong> Starting from now you can work on a copy of this document.<br> Create your work folder (ex. /sdup/student) and copy to it extracted archive (T8_pynq_notebook.zip from UPEL webpage) which consists of jupyter notebook file and a folder with images.<br>Then just open the notebook file on KRIA and go the the next step.</div>"
   ]
  },
  {
   "cell_type": "markdown",
   "id": "57b51440-669a-445c-a598-8d8efb9cabcc",
   "metadata": {
    "tags": []
   },
   "source": [
    "# First steps with PYNQ\n",
    "\n",
    "Start with download file **kv260_sdup.xsa** - the training overlay from UPEL webpage. Move this file to KRIA to your work directory (ex. /sdup/student/), the same where you have your jupyter notebook.\n",
    "\n",
    "A simple Vivado design was created with a Timer, BRAM, AXI GPIO controller and DMA with data FIFO connected (diagram below). The AXI GPIO is connected to the Pmod on the KRIA KV260.\n",
    "\n",
    "The Xilinx support archive (XSA) file was created. It includes the bitstream file (.bit), and the Hardware Hand-off file (.hwh). The bitstream is used to program the Zynq Programmable Logic (PL) with your custom hardware design. The Hwh is usually exported to the Xilinx SDK tools for building software applications for your system. Both files (connected as a .xsa file) contain information about the system including clocks, and settings, IP and the system memory map. These files can be parsed in PYNQ and the information used to help use the design from Python. \n",
    "\n",
    "<img src=\"./img/vivado_diagram_base.png\" width=\"1400\"/>\n",
    "\n",
    "<div class=\"alert alert-info\"><strong>NOTE:</strong> During laboratory classess use provided by the instructor mini board with LEDs. Connect it to the PMOD port on KRIA. Be aware where is the GND on both parts.</div>\n",
    "<img src=\"./img/pmod.png\" width=\"500\"/>"
   ]
  },
  {
   "cell_type": "markdown",
   "id": "3afe858c-bc24-4e17-9f60-d2806b3805ce",
   "metadata": {},
   "source": [
    "### Instantiate the Overlay"
   ]
  },
  {
   "cell_type": "code",
   "execution_count": null,
   "id": "ed6275e0-fb69-4b9d-a59f-72db6a5888c0",
   "metadata": {},
   "outputs": [],
   "source": [
    "from pynq import Overlay\n",
    "\n",
    "kv260_sdup_ov = Overlay(\"kv260_sdup.xsa\")"
   ]
  },
  {
   "cell_type": "markdown",
   "id": "dbe90a8b-de65-45f1-a2f7-e5d389319509",
   "metadata": {},
   "source": [
    "<div class=\"alert alert-warning\"><strong>NOTE:</strong> The fan on the KRIA board will go to full speed. This is because we load new bitstream in which there is no control for the fan speed.</div>\n",
    "\n",
    "### Check list of IPs in the design\n",
    "Before using the design, you need to know what IPs are available in loaded bitstream. You could determine this based on the Vivado design you created.\n",
    "\n",
    "The Overlay can be queried to determine the available IPs."
   ]
  },
  {
   "cell_type": "code",
   "execution_count": null,
   "id": "eb0134f4-dbd7-42da-adf1-e0f558df6435",
   "metadata": {
    "tags": []
   },
   "outputs": [],
   "source": [
    "kv260_sdup_ov?"
   ]
  },
  {
   "cell_type": "markdown",
   "id": "e57ca273-8c4b-4cba-8be2-3571c7e18d36",
   "metadata": {},
   "source": [
    "Notice that AXI Timer have been assigned the pynq.overlay.DefaultIP driver, and AXI GPIO IP have been assigned the pynq.lib.axigpio.AxiGPIO driver. In the case of BRAM, a memory, only MMIO is needed to read and write memory locations.\n",
    "\n",
    "Overlay IP information can also be read from the ‘ip_dict’. This will print a complete list of IP in the design, and various properties."
   ]
  },
  {
   "cell_type": "code",
   "execution_count": null,
   "id": "4d9bf0b2-c2fb-4d02-ac65-be8841148aac",
   "metadata": {
    "tags": []
   },
   "outputs": [],
   "source": [
    "kv260_sdup_ov.ip_dict"
   ]
  },
  {
   "cell_type": "markdown",
   "id": "c496f8df-5786-47cd-8eff-3ff316ace90f",
   "metadata": {},
   "source": [
    "Once you know the IP names, and hierarchical paths, you can set up more convenient handles."
   ]
  },
  {
   "cell_type": "code",
   "execution_count": null,
   "id": "d7983f78-f8bf-46de-832a-1020b6e6f439",
   "metadata": {},
   "outputs": [],
   "source": [
    "timer = kv260_sdup_ov.axi_timer_0\n",
    "bram = kv260_sdup_ov.axi_bram_ctrl_0\n",
    "pmod = kv260_sdup_ov.axi_gpio_0"
   ]
  },
  {
   "cell_type": "markdown",
   "id": "9fc7cd54-cbb1-42a4-9c0a-6ea14b090e7e",
   "metadata": {},
   "source": [
    "### MMIO read / write operations\n",
    "This example show how to use AXI IP using provided read() and write() methods for MMIO objects.\n",
    "\n",
    "We will make changes to the content of BRAM memory.\n",
    "Start by checking the help for the AXI BRAM."
   ]
  },
  {
   "cell_type": "code",
   "execution_count": null,
   "id": "e0d71ac2-3e96-4326-9ce4-f919b1416569",
   "metadata": {},
   "outputs": [],
   "source": [
    "bram.read?"
   ]
  },
  {
   "cell_type": "code",
   "execution_count": null,
   "id": "eb487411-7491-41a6-a169-c030fe5f5d42",
   "metadata": {},
   "outputs": [],
   "source": [
    "bram.write?"
   ]
  },
  {
   "cell_type": "markdown",
   "id": "9c515813-d94b-4b01-ad29-b5833259d86f",
   "metadata": {},
   "source": [
    "<div class=\"alert alert-success\"><strong>TASK:</strong> Using read/write methods write a value 0x321 to the 0x124 location in BRAM memory, and check the result.</div>"
   ]
  },
  {
   "cell_type": "code",
   "execution_count": null,
   "id": "143b7293-2619-48ab-9a59-2a7a4df0cf5d",
   "metadata": {},
   "outputs": [],
   "source": [
    "bram.write(0x124, 0x321)"
   ]
  },
  {
   "cell_type": "code",
   "execution_count": null,
   "id": "1cd93c39-d64a-4164-93b8-8db805727179",
   "metadata": {},
   "outputs": [],
   "source": [
    "bram.read(0x124)"
   ]
  },
  {
   "cell_type": "markdown",
   "id": "4444fbba-b697-4916-a9fd-50eb8b5a220a",
   "metadata": {},
   "source": [
    "Another way is writing an array which is more faster. The PYNQ has a NumPy array object implemented.\n",
    "\n",
    "Lets write and read back an array."
   ]
  },
  {
   "cell_type": "code",
   "execution_count": null,
   "id": "89df20b2-3b69-4234-9441-7382de219000",
   "metadata": {},
   "outputs": [],
   "source": [
    "bram.mmio.array[0:4] = [(17 + x) for x in range(4)]"
   ]
  },
  {
   "cell_type": "code",
   "execution_count": null,
   "id": "f4a77f99-dffa-4b5f-906a-7fcfca844899",
   "metadata": {},
   "outputs": [],
   "source": [
    "bram.mmio.array[0:4]"
   ]
  },
  {
   "cell_type": "markdown",
   "id": "a3e78c9c-74d7-4a49-823c-b1185717f1d8",
   "metadata": {},
   "source": [
    "### Register Map operations\n",
    "\n",
    "This example show how to access and use the PYNQ register map information for an AXI IP. We will play with [AXI Timer IP](https://docs.amd.com/v/u/en-US/pg079-axi-timer).\n",
    "\n",
    "Lets start with displaying the content of register map, help funtion, and finaly starting the timer."
   ]
  },
  {
   "cell_type": "code",
   "execution_count": null,
   "id": "b6ad9270-0e88-4801-bbf0-8f6afba9bbfe",
   "metadata": {},
   "outputs": [],
   "source": [
    "timer.register_map"
   ]
  },
  {
   "cell_type": "code",
   "execution_count": null,
   "id": "e87760b5-64ab-4e26-bbbf-97e333f5beb2",
   "metadata": {
    "tags": []
   },
   "outputs": [],
   "source": [
    "help(timer.register_map)"
   ]
  },
  {
   "cell_type": "code",
   "execution_count": null,
   "id": "bfda62af-ef85-456a-b193-1131d9dc2df6",
   "metadata": {},
   "outputs": [],
   "source": [
    "timer.register_map.TCSR0.ENT0 = 1"
   ]
  },
  {
   "cell_type": "markdown",
   "id": "b9e69809-ff83-4d12-8829-36b22677cd59",
   "metadata": {},
   "source": [
    "<div class=\"alert alert-success\"><strong>TASK:</strong> Check if timer actualy is counting (read TCR0 register). Using RegisterMap and AXI Timer IP documentation set timer to Auto Reload mode.</div>"
   ]
  },
  {
   "cell_type": "markdown",
   "id": "9c01e8fa-3d68-458d-80ca-772f9205b369",
   "metadata": {},
   "source": [
    "### AXI GPIO\n",
    "Because AXI GPIO IP have been assigned the pynq.lib.axigpio.AxiGPIO driver, we can use MMIO operations and RegisterMap"
   ]
  },
  {
   "cell_type": "code",
   "execution_count": null,
   "id": "d648c0bc-23fe-410a-86a5-2381d6656534",
   "metadata": {},
   "outputs": [],
   "source": [
    "pmod.register_map"
   ]
  },
  {
   "cell_type": "markdown",
   "id": "45486a11-96be-4e9a-bed0-91ccd73ca30a",
   "metadata": {},
   "source": [
    "This is an example of using interactiv slider for manipulating LEDs."
   ]
  },
  {
   "cell_type": "code",
   "execution_count": null,
   "id": "941ca35a-eaed-43ec-afd6-a5ad3b5c11f8",
   "metadata": {},
   "outputs": [],
   "source": [
    "from ipywidgets import interact\n",
    "import ipywidgets as widgets\n",
    "\n",
    "def click(x):\n",
    "    pmod.write(0, x)"
   ]
  },
  {
   "cell_type": "code",
   "execution_count": null,
   "id": "61daa694-4f1a-4fc1-be6f-5a6654088dba",
   "metadata": {},
   "outputs": [],
   "source": [
    "interact(click, x=widgets.IntSlider(min=0, max=15, step=1, value=5));"
   ]
  },
  {
   "cell_type": "markdown",
   "id": "fa0bcf8a-9111-498c-8f5f-a6ebeab95bf1",
   "metadata": {},
   "source": [
    "### AXI DMA\n",
    "This example shows how to use a DMA in PYNQ. We will send data from PS DRAM to an IP in the Zynq, and read back data from IP to the PL and write it to PS DRAM.\n",
    "\n",
    "The DMA has an AXI_Lite slave control interface, and two AXI master connections to PS HP ports that allow access to the PS DRAM.<br>\n",
    "The AXI Stream FIFO is connected to DMA in a way that it is creating a loop-back channel. FIFO is not visible for PYNQ.\n",
    "\n",
    "Lets start with creating some data to send, and buffer to retrieve it."
   ]
  },
  {
   "cell_type": "code",
   "execution_count": null,
   "id": "2c5ebd21-a89d-4b9b-93b6-adfe0ce29d7b",
   "metadata": {},
   "outputs": [],
   "source": [
    "from pynq import allocate\n",
    "import numpy as np\n",
    "\n",
    "data_size = 1000000\n",
    "in_buffer = allocate(shape=(data_size,), dtype=np.uint32)\n",
    "out_buffer = allocate(shape=(data_size,), dtype=np.uint32)\n",
    "\n",
    "for i in range(data_size):\n",
    "    in_buffer[i] = 0xcafe0000 + i"
   ]
  },
  {
   "cell_type": "markdown",
   "id": "e34f2e68-5084-41a0-836d-0a35d58afae8",
   "metadata": {},
   "source": [
    "Now we are ready to carry out DMA transfer from DDR to FIFO."
   ]
  },
  {
   "cell_type": "code",
   "execution_count": null,
   "id": "2a48ed2a-03bd-4b77-a73a-94c962b18469",
   "metadata": {},
   "outputs": [],
   "source": [
    "dma = kv260_sdup_ov.axi_dma_0\n",
    "dma.sendchannel.transfer(in_buffer)"
   ]
  },
  {
   "cell_type": "markdown",
   "id": "d8a333b2-59e3-4c34-ba27-73f1b9923c3a",
   "metadata": {},
   "source": [
    "While transfering data lets see the content of control registers, which we have access via AXI_LITE"
   ]
  },
  {
   "cell_type": "code",
   "execution_count": null,
   "id": "289ff9eb-0b8f-4f1d-9f4a-29790f7fc09f",
   "metadata": {},
   "outputs": [],
   "source": [
    "dma.register_map"
   ]
  },
  {
   "cell_type": "markdown",
   "id": "a390cc9c-2a87-47b4-8f06-cc1a6ae1fe39",
   "metadata": {},
   "source": [
    "Before reading back data lets check buffer content."
   ]
  },
  {
   "cell_type": "code",
   "execution_count": null,
   "id": "ffb410b2-8dc6-45ba-a105-79bff418a25d",
   "metadata": {},
   "outputs": [],
   "source": [
    "for i in range(10):\n",
    "    print('0x' + format(out_buffer[i], '02x'))"
   ]
  },
  {
   "cell_type": "markdown",
   "id": "5e5299cb-3b1d-4ccc-bbb9-6763a50ed9cd",
   "metadata": {},
   "source": [
    "Transfer data and read buffer once again. After that compare buffers. At the end do the cleaning."
   ]
  },
  {
   "cell_type": "code",
   "execution_count": null,
   "id": "2ea45148-135c-4bad-9316-4e253d5627f8",
   "metadata": {},
   "outputs": [],
   "source": [
    "dma.recvchannel.transfer(out_buffer)\n",
    "for i in range(10):\n",
    "    print('0x' + format(out_buffer[i], '02x'))"
   ]
  },
  {
   "cell_type": "code",
   "execution_count": null,
   "id": "14e85745-6d77-4d33-910f-5e1611a25eef",
   "metadata": {},
   "outputs": [],
   "source": [
    "print(\"Buffers are equal: {}\".format(np.array_equal(in_buffer, out_buffer)))\n",
    "del in_buffer\n",
    "del out_buffer"
   ]
  },
  {
   "cell_type": "markdown",
   "id": "6e29857b-05b1-4a71-bb9a-1e658136bba8",
   "metadata": {},
   "source": [
    "<div class=\"alert alert-success\"><strong>TASK:</strong> Write a simple script to measure speed of data transfer via FIFO.</div>"
   ]
  },
  {
   "cell_type": "markdown",
   "id": "5b98bb08-c6e3-4b34-a158-c76a30c16ada",
   "metadata": {},
   "source": [
    "# Creating own overlay\n",
    "\n",
    "In this section we will create new overlay step by step. For this purpose we will use AMD-Xilinx Vivado 2022.1 software.\n",
    "\n",
    "Start with downloading from the UPEL webpage archive with IPs. Uncompress it, locate folder **ip_repo** and copy it to your vivado working directory.\n",
    "\n",
    "We will connect to the Zynq Processing System two IPs: \n",
    "* sequential implementation of CORDIC, based on tutorial 3 - Implementation of the system with a sequential accelerator\n",
    "* pipelined CORDIC accelerator, based on tutorial 4 - The pipelined sine/cosine cordic processor\n",
    "\n",
    "Sequential version of CORDIC is using AXI Lite interface. We will connect it to the Zynq PS, and interact with it exatly the same way as with AXI Timer or AXI GPIO.\n",
    "On the other hand, pipelined accelerator will be connected directly to the DMA using AXI Stream interface, just like FIFO from previous section. \n",
    "\n",
    "\n",
    "> **STEP 1:** Create a Vivado project.\n",
    ">\n",
    ">> *File -> Project -> New*\n",
    ">\n",
    ">> Set **Project name** to *kv260_cordic*\n",
    ">\n",
    ">> In **Project type** leave option *RTL project*\n",
    ">\n",
    ">> As **Default Part** in *Boards* tab choose *Kria KV260 Vision AI Starter Kit*\n",
    ">\n",
    ">> *Tools -> Settings -> IP > Repository* add **ip_repo** - vivado should recognise two IPs\n",
    "\n",
    "> **STEP 2:** Create a block diagram.\n",
    ">\n",
    ">> *Flow -> Create Block Design* and name it *kv260_cordic*\n",
    ">\n",
    ">> Add IPs:\n",
    ">> * Zynq UltraScale+ MPSoC **zynq_ultra_ps_e_0**\n",
    ">> * cordic_seq_v1.0 **cordic_seq_0**\n",
    ">> * cordic_pipe_v1.0 **cordic_pipe_0**\n",
    ">> * AXI Direct Memory Access **axi_dma_0**\n",
    ">> * 2 x AXI Interconnect **axi_interconnect_0** **axi_interconnect_1**\n",
    ">\n",
    ">> *Run Block Automation*<br>\n",
    "\n",
    "> **STEP 3:** Set IPs properties (double click on the IP in diagram).\n",
    ">\n",
    ">> **zynq_ultra_ps_e_0**\n",
    ">>\n",
    ">>> PS-PL Configuration -> PS-PL Interfaces -> Master Interface -> Enable only **AXI HPM0 FPD**<br>\n",
    ">>> PS-PL Configuration -> PS-PL Interfaces -> Slave Interface -> AXI HP -> Enable only **AXI HP0 FPD**\n",
    ">\n",
    ">> **axi_dma_0**\n",
    ">>\n",
    ">>> Disable Scatter Gather Engine\n",
    ">\n",
    ">> **axi_interconnect_0**\n",
    ">>\n",
    ">>> Number of Slave Interfaces = 1<br>\n",
    ">>> Number of Master Interfaces = 2\n",
    ">\n",
    ">> **axi_interconnect_1**\n",
    ">>\n",
    ">>> Number of Slave Interfaces = 2<br>\n",
    ">>> Number of Master Interfaces = 1\n",
    "\n",
    "> **STEP 4:** Make interfaces connections.\n",
    ">\n",
    ">> **zynq_ultra_ps_e_0** M_AXI_HPM0_FPD <-> S00_AXI **axi_interconnect_0**<br>\n",
    ">> **zynq_ultra_ps_e_0** S_AXI_HP0_FPD <-> M00_AXI **axi_interconnect_1**<br>\n",
    ">> **axi_interconnect_0** M00_AXI <-> S_AXI_LITE **axi_dma_0**<br>\n",
    ">> **axi_interconnect_0** M01_AXI <-> S00_AXI **cordic_seq_0**<br>\n",
    ">> **axi_interconnect_1** S00_AXI <-> M_AXI_MM2S **axi_dma_0**<br>\n",
    ">> **axi_interconnect_1** S01_AXI <-> M_AXI_S2MM **axi_dma_0**<br>\n",
    ">> **cordic_pipe_0** M00_AXIS <-> S_AXIS_S2MM **axi_dma_0**<br>\n",
    ">> **cordic_pipe_0** S00_AXIS <-> M_AXIS_MM2S **axi_dma_0**<br>\n",
    ">\n",
    ">> *Run Connection Automation* -> choose *All automation*\n",
    "\n",
    "> **STEP 5:** Assigning addresses.\n",
    ">\n",
    ">> Switch *Diagram* to *Address Editor* tab. \n",
    ">\n",
    ">> Right click on *Network 0* -> *Assign All*\n",
    ">>\n",
    ">> As a result we sholud get 6 addresses assigned and 4 addresses excluded:\n",
    ">>\n",
    ">>> Network 0: /axi_dma_0 (AXI connections)<br>\n",
    ">>> Network 1: /zynq_ultra_ps_e_0 (AXI_LITE connections)\n",
    "\n",
    "After this steps the block diagram sholud look like below (Interfaces View).\n",
    "\n",
    "<img src=\"./img/vivado_diagram_cordic.png\" width=\"1400\"/>\n",
    "\n",
    "**Create HDL Wrapper** for the block diagram *kv260_cordic* (right click on kv260_cordic.bd file in Hierarchy view of Sources).\n",
    "\n",
    "Select **Generate Bitstream** and wait for the result.\n",
    "\n",
    "After successful bistream generation select *File -> Export -> Export Hardware*. Choose to include bitstream. Name the XSA file as *kv260_cordic*.\n",
    "\n",
    "Locate file **kv260_cordic.xsa** in vivado project directory, and copy it to KRIA (drag and drop to the folder containing this notebook)."
   ]
  },
  {
   "cell_type": "markdown",
   "id": "9f95c2ef-8b98-42cf-a107-9b88d8e2d577",
   "metadata": {},
   "source": [
    "# Using a new overlay with PYNQ\n",
    "Start with uploading bitstream and checking IP list."
   ]
  },
  {
   "cell_type": "code",
   "execution_count": null,
   "id": "dbbf0c9d-3c9c-47c1-98ca-462209ce8718",
   "metadata": {},
   "outputs": [],
   "source": [
    "from pynq import Overlay\n",
    "from pynq import allocate\n",
    "import numpy as np\n",
    "\n",
    "kv260_cordic_ov = Overlay(\"kv260_cordic.xsa\")"
   ]
  },
  {
   "cell_type": "code",
   "execution_count": null,
   "id": "5ebb6629-6330-4e7c-844a-6227fc762ff0",
   "metadata": {
    "tags": []
   },
   "outputs": [],
   "source": [
    "kv260_cordic_ov.ip_dict"
   ]
  },
  {
   "cell_type": "markdown",
   "id": "60453258-77fb-449b-af21-7317d389100c",
   "metadata": {},
   "source": [
    "### Sequential cordic test"
   ]
  },
  {
   "cell_type": "code",
   "execution_count": null,
   "id": "1c39a68e-4d77-47c6-9037-9680610cc9e5",
   "metadata": {},
   "outputs": [],
   "source": [
    "cordic_seq = kv260_cordic_ov.cordic_seq_0.register_map"
   ]
  },
  {
   "cell_type": "markdown",
   "id": "579506c7-ded1-4abf-a9d8-4c75571fe06c",
   "metadata": {},
   "source": [
    "Select angle value, and count sin/cos with NumPy."
   ]
  },
  {
   "cell_type": "code",
   "execution_count": null,
   "id": "f7145f2e-d867-495f-89dd-3f3019862759",
   "metadata": {},
   "outputs": [],
   "source": [
    "angle_deg = 11\n",
    "angle_rad = np.deg2rad(angle_deg)\n",
    "print(\"ARM results:\")\n",
    "print(\"sin\", np.sin(angle_rad))\n",
    "print(\"cos\", np.cos(angle_rad))"
   ]
  },
  {
   "cell_type": "markdown",
   "id": "d91cb6b2-090e-4ea6-8d24-51a07f3e6223",
   "metadata": {},
   "source": [
    "Convert angle to radians fxp(12:10)."
   ]
  },
  {
   "cell_type": "code",
   "execution_count": null,
   "id": "2c51de55-1808-40c8-bf15-8db2d7564a18",
   "metadata": {},
   "outputs": [],
   "source": [
    "angle_fxp = (int(1024*angle_deg * 1024*np.pi) >> 10) / 180;"
   ]
  },
  {
   "cell_type": "markdown",
   "id": "090d0714-c00e-4901-add1-b5875e1a80b7",
   "metadata": {},
   "source": [
    "Send data and read back result."
   ]
  },
  {
   "cell_type": "code",
   "execution_count": null,
   "id": "2bf2db50-821d-4639-b07c-92d9566d1ea0",
   "metadata": {},
   "outputs": [],
   "source": [
    "cordic_seq.ANGLE_REG = angle_fxp + 0\n",
    "cordic_seq.CONTROL_REG = 1\n",
    "sin = ((int(cordic_seq.RESULT_REG) & 0x00000FFF) << 20) >> 20\n",
    "cos = ((int(cordic_seq.RESULT_REG) & 0x0FFF0000) <<  4) >> 20\n",
    "print(\"CORDIC SEQ results:\")\n",
    "print(\"sin\", sin/1024)\n",
    "print(\"cos\", cos/1024)"
   ]
  },
  {
   "cell_type": "markdown",
   "id": "d1d1e1ed-d6dc-4c0e-b65b-9f2f60c96401",
   "metadata": {},
   "source": [
    "### Pipelined cordic test\n",
    "Prepare data buffers."
   ]
  },
  {
   "cell_type": "code",
   "execution_count": null,
   "id": "acdd965d-51ea-466b-b533-f68fc28e4dcf",
   "metadata": {},
   "outputs": [],
   "source": [
    "cordic_pipe_latency = 15\n",
    "data_size = 1 + cordic_pipe_latency\n",
    "in_buffer = allocate(shape=(data_size,), dtype=np.uint32)\n",
    "out_buffer = allocate(shape=(data_size,), dtype=np.uint32)\n",
    "\n",
    "for i in range(data_size):\n",
    "    in_buffer[i] = angle_fxp"
   ]
  },
  {
   "cell_type": "code",
   "execution_count": null,
   "id": "3669e7bc-fdd7-4a8d-9412-da2d36f36cf2",
   "metadata": {},
   "outputs": [],
   "source": [
    "dma = kv260_cordic_ov.axi_dma_0\n",
    "dma.sendchannel.transfer(in_buffer)\n",
    "dma.recvchannel.transfer(out_buffer)"
   ]
  },
  {
   "cell_type": "code",
   "execution_count": null,
   "id": "25b05021-3a1e-4bfb-8895-bd7e921e8ce3",
   "metadata": {},
   "outputs": [],
   "source": [
    "sin = ((int(out_buffer[cordic_pipe_latency]) & 0x00000FFF) << 20) >> 20\n",
    "cos = ((int(out_buffer[cordic_pipe_latency]) & 0x0FFF0000) <<  4) >> 20\n",
    "print(\"CORDIC PIPE results:\")\n",
    "print(\"sin\", sin/1024)\n",
    "print(\"cos\", cos/1024)"
   ]
  },
  {
   "cell_type": "code",
   "execution_count": null,
   "id": "c6a60471-9ede-4525-ae02-edba20e8814a",
   "metadata": {},
   "outputs": [],
   "source": [
    "del in_buffer\n",
    "del out_buffer"
   ]
  },
  {
   "cell_type": "markdown",
   "id": "add9994e-e5c7-430e-baa0-07653081730e",
   "metadata": {},
   "source": [
    "<div class=\"alert alert-success\"><strong>TASK:</strong> Write a simple script to compare precision and speed of operations sin/cos from different architectures (arm/seq/pipe).</div>"
   ]
  },
  {
   "cell_type": "markdown",
   "id": "7f17b5d6",
   "metadata": {},
   "source": [
    "## Timing comparation\n",
    "Our own overlay is working! Or at lest produces some output. Now let's check how the overlay performs.\n",
    "\n",
    "The cell below generates the input data and imports few libraries that will be needed later on. Timeit offers a neat way of benchmarking. Matplotlib enables plot generation.\n",
    "\n",
    "The generated data is spread evenly between 1 and 90 degrees.\n",
    "\n",
    "`number_of_points` sets number of datapoints in our test data. **Don't change it yet, a few following cells require at least 4000 points to work properly.** You can play with it once you reach the end of the notebook."
   ]
  },
  {
   "cell_type": "code",
   "execution_count": null,
   "id": "bc7e9095",
   "metadata": {},
   "outputs": [],
   "source": [
    "import matplotlib.pyplot as plt\n",
    "import timeit\n",
    "\n",
    "number_of_points = 4080 # This cannot exceed 4080!!! It's DMA size limitation.\n",
    "points = np.linspace(1, 90, number_of_points) # Generate evenly spaced angles between 1 and 90 degrees\n",
    "\n",
    "angles_rad = np.deg2rad(points) # Convert degrees to radians\n",
    "\n",
    "## Convert degrees to format expected by our layout\n",
    "angles_fxp = []\n",
    "for i in points:\n",
    "    angles_fxp.append((int(1024*i * 1024*np.pi) >> 10) / 180)"
   ]
  },
  {
   "cell_type": "markdown",
   "id": "2ac2bf17",
   "metadata": {},
   "source": [
    "Ok, we've got the data! Now it's time for some comparations. Below we are declaring 3 functions, each accepting an array of angle values and returning sine and cosine values. Then we use these functions to calculate sine and cosine values for our test angles. Finally we compare our layout resoults to ARM calculaterd values and plot the absolute error.\n",
    "\n",
    "Some error is expected so don't be alarmed. We are not trying to mimic ARM sine cosine calculation process, we just need values that are reasonabely close."
   ]
  },
  {
   "cell_type": "code",
   "execution_count": null,
   "id": "3a23f98a",
   "metadata": {},
   "outputs": [],
   "source": [
    "## Calculate sin and cos values using ARM processor\n",
    "def arm_process(angles_rad):\n",
    "    arm_sin = np.sin(angles_rad)\n",
    "    arm_cos = np.cos(angles_rad)\n",
    "    return (arm_sin, arm_cos)\n",
    "\n",
    "## Calculate sin and cos vlaues using sequential approach\n",
    "def seq_calculation(angles_fpx_sliece):\n",
    "    seq_sin = []\n",
    "    seq_cos = []\n",
    "    for angle_fxp in angles_fpx_sliece:\n",
    "        cordic_seq.ANGLE_REG = angle_fxp + 0\n",
    "        cordic_seq.CONTROL_REG = 1\n",
    "        sin = ((int(cordic_seq.RESULT_REG) & 0x00000FFF) << 20) >> 20\n",
    "        cos = ((int(cordic_seq.RESULT_REG) & 0x0FFF0000) << 4) >> 20\n",
    "        seq_sin.append( sin / 1024 )\n",
    "        seq_cos.append( cos / 1024 )\n",
    "    return (seq_sin, seq_cos)\n",
    "    \n",
    "## Calculate sin and cos values using pipeline approach\n",
    "def pipe_process(angles_fpx_slice):\n",
    "    pipe_sin = []\n",
    "    pipe_cos = []\n",
    "    cordic_pipe_latency = 15\n",
    "    data_size = len(angles_fpx_slice) + cordic_pipe_latency\n",
    "    in_buffer = allocate(shape=(data_size,), dtype=np.uint32)\n",
    "    out_buffer = allocate(shape=(data_size,), dtype=np.uint32)\n",
    "    for i, angle in enumerate(angles_fpx_slice):\n",
    "        in_buffer[i] = angle\n",
    "\n",
    "    dma = kv260_cordic_ov.axi_dma_0\n",
    "    dma.sendchannel.transfer(in_buffer)\n",
    "    dma.recvchannel.transfer(out_buffer)\n",
    "    \n",
    "    for i in range(cordic_pipe_latency, data_size):\n",
    "        sin = ((int(out_buffer[i]) & 0x00000FFF) << 20) >> 20\n",
    "        cos = ((int(out_buffer[i]) & 0x0FFF0000) << 4) >> 20\n",
    "        pipe_sin.append(sin / 1024)\n",
    "        pipe_cos.append(cos / 1024)\n",
    "\n",
    "    del in_buffer\n",
    "    del out_buffer\n",
    "\n",
    "    return (pipe_sin, pipe_cos)\n",
    "\n",
    "\n",
    "## Call the functions to calculate values\n",
    "arm_sin, arm_cos = arm_process(angles_rad)\n",
    "seq_sin, seq_cos = seq_calculation(angles_fxp)\n",
    "pipe_sin, pipe_cos = pipe_process(angles_fxp)\n",
    "\n",
    "\n",
    "## Calculate absolute error against ARM calculated values\n",
    "seq_error = []\n",
    "pipe_error = []\n",
    "\n",
    "for arm, seq in zip(arm_cos, seq_cos):\n",
    "    seq_error.append(seq - arm)\n",
    "    \n",
    "for arm, pipe in zip(arm_cos, pipe_cos):\n",
    "    pipe_error.append(pipe - arm)\n",
    "\n",
    "\n",
    "## Plot the results and error function\n",
    "plt.plot(angles_rad, arm_cos)\n",
    "plt.plot(angles_rad, seq_cos)\n",
    "plt.plot(angles_rad, pipe_cos)\n",
    "plt.grid()\n",
    "plt.legend([\"ARM\", \"seq\", \"pipe\"])\n",
    "plt.title(\"Cosine values comparation\")\n",
    "plt.xlabel(\"Angle [Rad]\")\n",
    "plt.ylabel(\"value\")\n",
    "plt.show()\n",
    "\n",
    "plt.plot(angles_rad, seq_error)\n",
    "plt.plot(angles_rad, pipe_error)\n",
    "plt.grid()\n",
    "plt.legend([\"seq\", \"pipe\"])\n",
    "plt.title(\"Absolure error of cosine value against ARM\")\n",
    "plt.xlabel(\"Angle [Rad]\")\n",
    "plt.ylabel(\"Error\")\n",
    "plt.show()"
   ]
  },
  {
   "cell_type": "markdown",
   "id": "2c1ad5b7",
   "metadata": {},
   "source": [
    "Having tested our sequential and pipeline sine cosine calculations, we can move on to testing the performance. The cell below uses timeit library to benchmark the sequential and pipeline calculations. **Don't be alarmed that functions are passed as a string, it is how timeit works!** Timeit accepts the code to be executed as strings and then executes it in a controlled manner that aims at minimising garbage collector overhead. This way we are mostly measuring the actual time of execution.\n",
    "\n",
    "\n",
    "\n",
    "Timeit also offers doing more than one run of benchmarked code. You can set `iters` value to chane how many benchmarks are performed.\n",
    "\n",
    "<div class=\"alert alert-warning\"><strong>CAUTION:</strong> Setting the iters value too high will cause the cell to run for a long time.</div>"
   ]
  },
  {
   "cell_type": "code",
   "execution_count": null,
   "id": "fb8810b4",
   "metadata": {},
   "outputs": [],
   "source": [
    "iters = 10 # Number of tierations to average time benchmark\n",
    "\n",
    "## Time the sequential calculation using timeit\n",
    "seq_t = timeit.timeit('seq_calculation(angles_fxp)', globals=globals(), number=iters)\n",
    "pipe_t = timeit.timeit('pipe_process(angles_fxp)', globals=globals(), number=iters)\n",
    "\n",
    "\n",
    "## Display results\n",
    "print(\"=================\")\n",
    "print(\"Processing time [ms]\")\n",
    "print(\"seq:\\t\", seq_t/iters * 1000)\n",
    "print(\"pipe:\\t\", pipe_t/iters * 1000)\n",
    "print(\"------------------\")\n",
    "print(\"Avg. element processing time [ms]\")\n",
    "print(\"seq:\\t\", seq_t/iters * 1000 / number_of_points)\n",
    "print(\"pipe:\\t\", pipe_t/iters * 1000 / number_of_points)\n",
    "print(\"=================\")"
   ]
  },
  {
   "cell_type": "markdown",
   "id": "ba8e6638",
   "metadata": {},
   "source": [
    "As you can see, pipeline significantly outperforms sequential approach for a large pile of data. This is expected, although building the pipeline is more complex, it introduces some pararelism. In place of wating for 15 steps to finish each time, we can insert new data as soon as the first step is finished. This enables pipelines to process a lot of data or frequent stream of data faster.\n",
    "\n",
    "Lest's see how gains depend on amount of data in case of our overlay. The cell below benchmarks speed for different counts of input data. We will again use timit but this time we will do tests for each input data count and compare overall time and average time per element.\n",
    "\n",
    "<div class=\"alert alert-warning\"><strong>CAUTION:</strong> You can still change iters value to get more or less precise benchmark, but keep in mind that each iteration will make each test slower. The effect is cumulative!</div>"
   ]
  },
  {
   "cell_type": "code",
   "execution_count": null,
   "id": "b40f52c9",
   "metadata": {},
   "outputs": [],
   "source": [
    "iters = 10 # Number of tierations to average time benchmark\n",
    "\n",
    "mes = [10, 20, 50, 100, 100, 200, 500, 1000, 2000, 4000] # Count of data points in each consecutive test\n",
    "\n",
    "## Containers for output data\n",
    "seq_times = []\n",
    "seq_single_times = []\n",
    "pipe_times = []\n",
    "pipe_single_times = []\n",
    "\n",
    "## Do tests for each input data count in mes array\n",
    "for val in mes:\n",
    "    angles_slice = angles_fxp[0:val] # Takes a slice of test data of proper size\n",
    "    \n",
    "    # Time the sequential calculation\n",
    "    seq_t = timeit.timeit('seq_calculation(angles_slice)', globals=globals(), number=iters)\n",
    "\n",
    "    # Time the pipeline calculation\n",
    "    pipe_t = timeit.timeit('pipe_process(angles_slice)', globals=globals(), number=iters)\n",
    "    \n",
    "    ## Average the time and scale it to ms\n",
    "    seq_times.append(seq_t/iters * 1000)\n",
    "    seq_single_times.append(seq_t/iters * 1000 / val)\n",
    "    pipe_times.append(pipe_t/iters * 1000)\n",
    "    pipe_single_times.append(pipe_t/iters * 1000 / val)\n",
    "    \n",
    "## Plot overall processing time in function of input data count\n",
    "plt.plot(mes, seq_times)\n",
    "plt.plot(mes, pipe_times)\n",
    "plt.grid()\n",
    "plt.title(\"Processing time\")\n",
    "plt.legend([\"seq\", \"pipe\"])\n",
    "plt.ylabel(\"t [ms]\")\n",
    "plt.xlabel(\"number of points\")\n",
    "plt.show()\n",
    "\n",
    "## Plot average time of processing per element in function of input data count\n",
    "plt.plot(mes, seq_single_times)\n",
    "plt.plot(mes, pipe_single_times)\n",
    "plt.grid()\n",
    "plt.title(\"Avg. time per data point\")\n",
    "plt.legend([\"seq\", \"pipe\"])\n",
    "plt.ylabel(\"t [ms]\")\n",
    "plt.xlabel(\"number of points\")\n",
    "plt.show()"
   ]
  },
  {
   "cell_type": "markdown",
   "id": "d373bd6e",
   "metadata": {},
   "source": [
    "The result should show linear increase in overall sequential time and gentle hyperbolic increase in overall pipeline time. Also sequential time per data point is constant, while pipeline introduces logarythmic decrease as expected."
   ]
  }
 ],
 "metadata": {
  "kernelspec": {
   "display_name": "Python 3 (ipykernel)",
   "language": "python",
   "name": "python3"
  },
  "language_info": {
   "codemirror_mode": {
    "name": "ipython",
    "version": 3
   },
   "file_extension": ".py",
   "mimetype": "text/x-python",
   "name": "python",
   "nbconvert_exporter": "python",
   "pygments_lexer": "ipython3",
   "version": "3.10.12"
  }
 },
 "nbformat": 4,
 "nbformat_minor": 5
}
